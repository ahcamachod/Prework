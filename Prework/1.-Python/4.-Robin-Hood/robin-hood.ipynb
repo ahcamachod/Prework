{
 "cells": [
  {
   "cell_type": "markdown",
   "metadata": {},
   "source": [
    "<img src=\"https://bit.ly/2VnXWr2\" width=\"100\" align=\"left\"/>"
   ]
  },
  {
   "cell_type": "markdown",
   "metadata": {},
   "source": [
    "# Robin Hood\n",
    "Robin Hood has entered a competition to win the archery contest in Sherwood. With his bow and arrows, he needs to shoot on a target and try to hit as close as possible to the center.\n",
    "\n",
    "![](images/arrows.jpg)\n",
    "\n",
    "## Context\n",
    "In this challenge, the landing position of arrows shot by archers in the competition will be represented using 2-dimensional coordinates. \n",
    "\n",
    "In the 2-dimensional space, a point can be defined by a pair of values that correspond to the horizontal coordinate (x) and the vertical coordinate (y). For example, in our case, an arrow that hits the center of the archery target will land in position (0, 0) on the coordinate axes. \n",
    "\n",
    "The space can be divided into 4 zones (quadrants): Q1, Q2, Q3, Q4. If a point is in Q1, both its x coordinate and y coordinate are positive. Any point with a null x or y coordinate is considered to not belong to any quadrant. \n",
    "\n",
    "If you want to know more about the cartesian coordinate system, you can check this [link](https://en.wikipedia.org/wiki/Cartesian_coordinate_system). \n",
    "\n",
    "## Tools\n",
    "You don't necessarily need to use all the tools. Maybe you opt to use some of them or completely different ones, they are given to help you shape the exercise. Programming exercises can be solved in many different ways.\n",
    "* Data structures: **lists, sets, tuples**\n",
    "* Conditional statements: **if-elif-else**\n",
    "* Loop: **while/for**\n",
    "* Minimum (optional sorting)\n",
    "\n",
    "## Tasks\n",
    "Robin Hood has hit the following points:"
   ]
  },
  {
   "cell_type": "code",
   "execution_count": 2,
   "metadata": {},
   "outputs": [],
   "source": [
    "points = [(4, 5), (-0, 2), (4, 7), (1, -3), (3, -2), (4, 5), (3, 2), (5, 7), (-5, 7), (2, 2), (-4, 5), (0, -2),\n",
    "          (-4, 7), (-1, 3), (-3, 2), (-4, -5), (-3, 2), (5, 7), (5, 7), (2, 2), (9, 9), (-8, -9)]"
   ]
  },
  {
   "cell_type": "markdown",
   "metadata": {},
   "source": [
    "#### 1. Robin Hood is famous for hitting an arrow with another arrow. Find the coordinates of the points where an arrow hits another arrow."
   ]
  },
  {
   "cell_type": "code",
   "execution_count": 24,
   "metadata": {},
   "outputs": [
    {
     "name": "stdout",
     "output_type": "stream",
     "text": [
      "Coordinates of the points where an arrow hits another arrow: [(4, 5), (5, 7), (-3, 2), (2, 2)]\n"
     ]
    }
   ],
   "source": [
    "list_uniques = list()\n",
    "\n",
    "for point in points:\n",
    "    if point not in list_uniques:\n",
    "        list_uniques.append(point)\n",
    "\n",
    "duplicated_points = list()\n",
    "for point in points:\n",
    "    duplicated_points.append(point)\n",
    "\n",
    "for i in range(len(list_uniques)):\n",
    "    duplicated_points.remove(list_uniques[i])\n",
    "\n",
    "duplicates = list(set(duplicated_points))\n",
    "    \n",
    "print('Coordinates of the points where an arrow hits another arrow:', duplicates)"
   ]
  },
  {
   "cell_type": "markdown",
   "metadata": {},
   "source": [
    "#### 2. Calculate how many arrows have fallen in each quadrant. \n",
    "**Note**: the arrows that fall in the axis (x=0 or y=0) don't belong to any quadrant."
   ]
  },
  {
   "cell_type": "code",
   "execution_count": 10,
   "metadata": {},
   "outputs": [
    {
     "name": "stdout",
     "output_type": "stream",
     "text": [
      "Q1 =  10 arrows\n",
      "Q2 =  6 arrows\n",
      "Q3 =  2 arrows\n",
      "Q4 =  2 arrows\n",
      "Not in any quadrant = 2\n",
      "Center of the Archery = 0\n"
     ]
    }
   ],
   "source": [
    "q1 = q2 = q3 = q4 = no_quadrant = center = 0\n",
    "\n",
    "for point in points:\n",
    "    \n",
    "    if point[0] > 0:\n",
    "        if point[1] > 0:\n",
    "            q1 += 1\n",
    "        elif point[1] < 0:\n",
    "            q4 += 1\n",
    "            \n",
    "    if point[0] < 0:\n",
    "        if point[1] > 0:\n",
    "            q2 += 1\n",
    "        elif point[1] < 0:\n",
    "            q3 += 1\n",
    "            \n",
    "    if point[0] == 0:\n",
    "        if point[1] != 0:\n",
    "            no_quadrant += 1\n",
    "        elif point[1] == 0:\n",
    "            center += 1\n",
    "\n",
    "print('Q1 = ', q1, 'arrows')\n",
    "print('Q2 = ', q2, 'arrows')\n",
    "print('Q3 = ', q3, 'arrows')\n",
    "print('Q4 = ', q4, 'arrows')\n",
    "print('Not in any quadrant =', no_quadrant)\n",
    "print('Center of the Archery =', center)"
   ]
  },
  {
   "cell_type": "markdown",
   "metadata": {},
   "source": [
    "#### 3. Find the point closest to the center. Calculate its distance to the center. \n",
    "Take into account that there might be more than one point at the minimum distance to the center.\n",
    "\n",
    "**Hint**: Use the Euclidean distance. You can find more information about it [here](https://en.wikipedia.org/wiki/Euclidean_distance).  \n",
    "**Hint**: Defining a function that calculates the distance to the center can help."
   ]
  },
  {
   "cell_type": "code",
   "execution_count": 22,
   "metadata": {},
   "outputs": [
    {
     "name": "stdout",
     "output_type": "stream",
     "text": [
      "The point(s) that is/are closest to the center is/are: [(0, 2), (0, -2)]\n",
      "Distance to the center: 2.0\n"
     ]
    }
   ],
   "source": [
    "from math import sqrt\n",
    "\n",
    "def distance(x,y):\n",
    "    dist = sqrt((x**2)+(y**2))\n",
    "    return dist\n",
    "\n",
    "list_distance = list()\n",
    "for point in points:\n",
    "    x = point[0]\n",
    "    y = point[1]\n",
    "    list_distance.append(distance(x,y))\n",
    "\n",
    "closest = min(list_distance)\n",
    "closest_points = list()\n",
    "i = -1\n",
    "\n",
    "for distance in list_distance:\n",
    "    i += 1\n",
    "    if (closest == distance):\n",
    "        closest_points.append(points[i])\n",
    "        \n",
    "print('The point(s) that is/are closest to the center is/are:', closest_points)\n",
    "\n",
    "print('Distance to the center:', closest)"
   ]
  },
  {
   "cell_type": "markdown",
   "metadata": {},
   "source": [
    "#### 4. If the archery target has a radius of 9, calculate the number of arrows that won't hit the target. \n",
    "**Hint**: Use the function created in step 3. "
   ]
  },
  {
   "cell_type": "code",
   "execution_count": 23,
   "metadata": {},
   "outputs": [
    {
     "name": "stdout",
     "output_type": "stream",
     "text": [
      "2 arrows won't hit the target.\n"
     ]
    }
   ],
   "source": [
    "radius = 9\n",
    "out = 0\n",
    "for distance in list_distance:\n",
    "    if distance > radius:\n",
    "        out += 1\n",
    "\n",
    "print(f\"{out} arrows won't hit the target.\")"
   ]
  },
  {
   "cell_type": "code",
   "execution_count": null,
   "metadata": {},
   "outputs": [],
   "source": []
  }
 ],
 "metadata": {
  "kernelspec": {
   "display_name": "Python 3",
   "language": "python",
   "name": "python3"
  },
  "language_info": {
   "codemirror_mode": {
    "name": "ipython",
    "version": 3
   },
   "file_extension": ".py",
   "mimetype": "text/x-python",
   "name": "python",
   "nbconvert_exporter": "python",
   "pygments_lexer": "ipython3",
   "version": "3.7.4"
  }
 },
 "nbformat": 4,
 "nbformat_minor": 2
}
